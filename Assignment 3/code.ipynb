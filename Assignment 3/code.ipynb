{
  "cells": [
    {
      "cell_type": "code",
      "execution_count": null,
      "metadata": {
        "id": "DEoZzmPkaRMn"
      },
      "outputs": [],
      "source": [
        "# Code Citations:\n",
        "# https://medium.com/@krishna.ramesh.tx/training-a-cnn-to-distinguish-between-mnist-digits-using-pytorch-620f06aa9ffa\n",
        "# https://www.analyticsvidhya.com/blog/2019/10/building-image-classification-models-cnn-pytorch/"
      ]
    },
    {
      "cell_type": "markdown",
      "source": [
        "## Import Packages"
      ],
      "metadata": {
        "id": "r19oK6rcLpWg"
      }
    },
    {
      "cell_type": "code",
      "execution_count": 1,
      "metadata": {
        "id": "nxM2RwjM84qI"
      },
      "outputs": [],
      "source": [
        "import pickle\n",
        "# importing the libraries\n",
        "import pandas as pd\n",
        "import numpy as np\n",
        "import cv2\n",
        "from google.colab.patches import cv2_imshow\n",
        "# for reading and displaying images\n",
        "from skimage.io import imread\n",
        "import matplotlib.pyplot as plt\n",
        "%matplotlib inline\n",
        "\n",
        "# for creating validation set\n",
        "from sklearn.model_selection import train_test_split\n",
        "\n",
        "# for evaluating the model\n",
        "from sklearn.metrics import accuracy_score\n",
        "from tqdm import tqdm\n",
        "\n",
        "# PyTorch libraries and modules\n",
        "import torch\n",
        "from torch.autograd import Variable\n",
        "from torch.nn import Linear, ReLU, CrossEntropyLoss, Sequential, Conv2d, MaxPool2d, Module, Softmax, BatchNorm2d, Dropout\n",
        "from torch.optim import Adam, SGD"
      ]
    },
    {
      "cell_type": "code",
      "execution_count": 12,
      "metadata": {
        "id": "T8_QixlDWBm6"
      },
      "outputs": [],
      "source": [
        "import pickle\n",
        "# importing the libraries\n",
        "import pandas as pd\n",
        "import numpy as np\n",
        "import cv2\n",
        "from google.colab.patches import cv2_imshow\n",
        "# for reading and displaying images\n",
        "from skimage.io import imread\n",
        "import matplotlib.pyplot as plt\n",
        "%matplotlib inline\n",
        "\n",
        "# for creating validation set\n",
        "from sklearn.model_selection import train_test_split\n",
        "\n",
        "# for evaluating the model\n",
        "from sklearn.metrics import accuracy_score\n",
        "from tqdm import tqdm\n",
        "\n",
        "# PyTorch libraries and modules\n",
        "import torch\n",
        "from torch.autograd import Variable\n",
        "from torch.nn import Linear, ReLU, CrossEntropyLoss, Sequential, Conv2d, MaxPool2d, Module, Softmax, BatchNorm2d, Dropout\n",
        "from torch.optim import Adam, SGD\n",
        "#pytorch utility imports\n",
        "import torch\n",
        "import torchvision\n",
        "import torchvision.transforms as transforms\n",
        "from torch.utils.data import DataLoader, TensorDataset\n",
        "from torchvision.utils import make_grid\n",
        "import pickle\n",
        "#neural net imports\n",
        "import torch.nn as nn\n",
        "import torch.nn.functional as F\n",
        "import torch.optim as optim\n",
        "from torch.autograd import Variable\n",
        "#import external libraries\n",
        "import pandas as pd\n",
        "import numpy as np\n",
        "import matplotlib.pyplot as plt\n",
        "from sklearn.model_selection import train_test_split\n",
        "import os\n",
        "import math\n",
        "%matplotlib inline"
      ]
    },
    {
      "cell_type": "markdown",
      "source": [
        "## Mount Google Drive\n",
        "\n",
        "Make sure you have all of the datasets in your google drive. "
      ],
      "metadata": {
        "id": "V8VCd9H1Lstj"
      }
    },
    {
      "cell_type": "code",
      "execution_count": 2,
      "metadata": {
        "colab": {
          "base_uri": "https://localhost:8080/"
        },
        "id": "1fQhMUZO1Ny0",
        "outputId": "7901a4f6-1a90-451c-af96-8a815489f3c0"
      },
      "outputs": [
        {
          "output_type": "stream",
          "name": "stdout",
          "text": [
            "Mounted at /content/drive\n"
          ]
        }
      ],
      "source": [
        "from google.colab import drive\n",
        "drive.mount('/content/drive')"
      ]
    },
    {
      "cell_type": "markdown",
      "source": [
        "_NOTE: In the code block below, make sure you change the paths accordingly to your drive :)_"
      ],
      "metadata": {
        "id": "MjKQ5-CwLzNh"
      }
    },
    {
      "cell_type": "code",
      "execution_count": 3,
      "metadata": {
        "colab": {
          "base_uri": "https://localhost:8080/",
          "height": 302
        },
        "id": "NF-ft_eh9CWr",
        "outputId": "48f9b9d6-8686-4a4c-8317-0b6f18785925"
      },
      "outputs": [
        {
          "output_type": "display_data",
          "data": {
            "text/plain": [
              "<Figure size 432x288 with 1 Axes>"
            ],
            "image/png": "[encoded data removed]"
          },
          "metadata": {
            "needs_background": "light"
          }
        },
        {
          "output_type": "stream",
          "name": "stdout",
          "text": [
            "Label:  4.0\n",
            "60000\n"
          ]
        }
      ],
      "source": [
        "# Training data and labels\n",
        "data_x = pickle.load( open('drive/MyDrive/Train.pkl', 'rb'))\n",
        "data_y = np.genfromtxt('drive/MyDrive/Train_labels.csv', delimiter=',')\n",
        "\n",
        "# Test data for Kaggle submission \n",
        "test_x = pickle.load( open( 'drive/MyDrive/Test.pkl', 'rb' ))\n",
        "test_y = np.genfromtxt('drive/MyDrive/ExampleSubmissionRandom.csv', delimiter=',')\n",
        "\n",
        "# Sample a random image from the dataset and print its class label\n",
        "test_sample = 155 \n",
        "plt.imshow(data_x[test_sample][0], cmap='gray', interpolation=\"bicubic\")\n",
        "plt.show()\n",
        "print(\"Label: \", data_y[test_sample][1])\n",
        "print(data_x.shape[0])"
      ]
    },
    {
      "cell_type": "code",
      "source": [
        "# Image Rotation - NOT WORKING \n",
        "# from keras_preprocessing.image import ImageDataGenerator, array_to_img, img_to_array, load_img\n",
        "# #img = load_img('Screenshot_47.png')\n",
        "\n",
        "# from numpy import expand_dims\n",
        "# from keras_preprocessing.image import load_img\n",
        "# from keras_preprocessing.image import img_to_array\n",
        "# from keras_preprocessing.image import ImageDataGenerator\n",
        "# import matplotlib.pyplot  as plt\n",
        "\n",
        "# rotated_train_images = []\n",
        "# rotated_train_labels = []\n",
        "\n",
        "# for j in range(train_images.shape[0]):\n",
        "# #for j in range(10):\n",
        "#   # load the image\n",
        "#   plt.figure(figsize=(45,30))\n",
        "\n",
        "#   # convert to numpy array\n",
        "#   data = img_to_array(train_images[j])\n",
        "#   rotated_train_images.append(train_images[j])\n",
        "#   rotated_train_labels.append(train_labels[j])\n",
        "#   #print(data.shape)\n",
        "#   # expand dimension to one sample\n",
        "#   samples = expand_dims(data, 0)\n",
        "\n",
        "#   datagen = ImageDataGenerator(featurewise_center=True,rotation_range=(0-10),brightness_range=[0,1])\n",
        "#   # prepare iterator\n",
        "#   it = datagen.flow(samples, batch_size=1)\n",
        "\n",
        "#   # generate samples and plot\n",
        "#   for i in range(6):\n",
        "#     # define subplot\n",
        "#     #plt.subplot(330 + 1 + i)\n",
        "#     # generate batch of images\n",
        "#     batch = it.next()\n",
        "#     # convert to unsigned integers for viewing\n",
        "#     image = batch[0].astype('uint8')\n",
        "#     rotated_train_images.append(image)\n",
        "#     # plot raw pixel data\n",
        "#     rotated_train_labels.append(train_labels[j])\n",
        "# print(len(rotated_train_images))\n",
        "# print(len(rotated_train_labels))"
      ],
      "metadata": {
        "id": "zgfOO8Mt82Jr"
      },
      "execution_count": null,
      "outputs": []
    },
    {
      "cell_type": "markdown",
      "source": [
        "## Split and Convert Data To Pytorch Tensors"
      ],
      "metadata": {
        "id": "3nT0g2sJMC7b"
      }
    },
    {
      "cell_type": "code",
      "source": [
        "data_x_tmp = []\n",
        "test_x_tmp = []\n",
        "for i in data_x:\n",
        "  data_x_tmp.append(i[0])\n",
        "\n",
        "for i in test_x:\n",
        "  test_x_tmp.append(i[0])\n",
        "\n",
        "data_x = np.asarray(data_x_tmp)\n",
        "test_x = np.asarray(test_x_tmp)\n",
        "print(\"Training Data Shape: \", data_x.shape)\n",
        "print(\"Test Data Shape: \", test_x.shape)\n",
        "\n",
        "# Remove invalid first element and index elements from class labels\n",
        "data_y = data_y[1:]\n",
        "data_y = data_y[:,1]\n",
        "data_y = np.int_(data_y)\n",
        "\n",
        "test_y = test_y[1:]\n",
        "test_y = test_y[:,1]\n",
        "test_y = np.int_(test_y)"
      ],
      "metadata": {
        "id": "FfkvNkx75D2Y",
        "colab": {
          "base_uri": "https://localhost:8080/"
        },
        "outputId": "198d6369-4a61-4f23-8b19-71c04982ce40"
      },
      "execution_count": 4,
      "outputs": [
        {
          "output_type": "stream",
          "name": "stdout",
          "text": [
            "Training Data Shape:  (60000, 28, 28)\n",
            "Test Data Shape:  (10000, 28, 28)\n"
          ]
        }
      ]
    },
    {
      "cell_type": "code",
      "execution_count": 5,
      "metadata": {
        "colab": {
          "base_uri": "https://localhost:8080/"
        },
        "id": "D7QD30169CnZ",
        "outputId": "bcbda3a6-e35c-4475-fa2f-64c75594053c"
      },
      "outputs": [
        {
          "output_type": "execute_result",
          "data": {
            "text/plain": [
              "(((54000, 28, 28), (54000,)), ((6000, 28, 28), (6000,)))"
            ]
          },
          "metadata": {},
          "execution_count": 5
        }
      ],
      "source": [
        "train_x, val_x, train_y, val_y = train_test_split(data_x, data_y, test_size = 0.1)\n",
        "(train_x.shape, train_y.shape), (val_x.shape, val_y.shape)"
      ]
    },
    {
      "cell_type": "code",
      "execution_count": 6,
      "metadata": {
        "colab": {
          "base_uri": "https://localhost:8080/"
        },
        "id": "opeM1RjHD0by",
        "outputId": "8bd7a27d-de30-4859-8ac5-d4eab20c3da9"
      },
      "outputs": [
        {
          "output_type": "stream",
          "name": "stdout",
          "text": [
            "Shape of training data and labels\n",
            "Shape of test data\n"
          ]
        },
        {
          "output_type": "execute_result",
          "data": {
            "text/plain": [
              "(torch.Size([10000, 1, 28, 28]), torch.Size([10000]))"
            ]
          },
          "metadata": {},
          "execution_count": 6
        }
      ],
      "source": [
        "# Convert training images into torch format\n",
        "train_x = train_x.reshape(54000, 1, 28, 28)\n",
        "train_x  = torch.from_numpy(train_x)\n",
        "\n",
        "test_x = test_x.reshape(10000, 1, 28, 28)\n",
        "test_x = torch.from_numpy(test_x)\n",
        "\n",
        "# converting the target into torch format\n",
        "train_y = train_y.astype(int);\n",
        "train_y = torch.from_numpy(train_y)\n",
        "\n",
        "test_y = test_y.astype(int);\n",
        "test_y = torch.from_numpy(test_y)\n",
        "\n",
        "# shape of training data\n",
        "print(\"Shape of training data and labels\")\n",
        "train_x.shape, train_y.shape\n",
        "\n",
        "# shape of training data\n",
        "print(\"Shape of test data\")\n",
        "test_x.shape, test_y.shape\n"
      ]
    },
    {
      "cell_type": "code",
      "execution_count": 7,
      "metadata": {
        "colab": {
          "base_uri": "https://localhost:8080/"
        },
        "id": "bnDSX-oPD62A",
        "outputId": "0021ae4a-5be4-4a19-b681-1efe2108cff2"
      },
      "outputs": [
        {
          "output_type": "execute_result",
          "data": {
            "text/plain": [
              "(torch.Size([6000, 1, 28, 28]), torch.Size([6000]))"
            ]
          },
          "metadata": {},
          "execution_count": 7
        }
      ],
      "source": [
        "# converting validation images into torch format\n",
        "val_x = val_x.reshape(6000, 1, 28, 28)\n",
        "val_x  = torch.from_numpy(val_x)\n",
        "\n",
        "# converting the target into torch format\n",
        "val_y = val_y.astype(int);\n",
        "val_y = torch.from_numpy(val_y)\n",
        "\n",
        "# shape of validation data\n",
        "val_x.shape, val_y.shape"
      ]
    },
    {
      "cell_type": "code",
      "execution_count": 10,
      "metadata": {
        "id": "Ma7h3U9etU05"
      },
      "outputs": [],
      "source": [
        "# converting original dataset to final training set\n",
        "final_x = data_x.reshape(60000, 1, 28, 28)\n",
        "final_x = torch.from_numpy(final_x)\n",
        "\n",
        "final_y = data_y.astype(int);\n",
        "fianl_y = torch.from_numpy(final_y)"
      ]
    },
    {
      "cell_type": "code",
      "execution_count": 13,
      "metadata": {
        "colab": {
          "base_uri": "https://localhost:8080/"
        },
        "id": "KAXefZZD-n7q",
        "outputId": "4e8062dc-a1ca-42b2-aeda-ec1d3caf7bac"
      },
      "outputs": [
        {
          "output_type": "stream",
          "name": "stdout",
          "text": [
            "Batch index:  0\n",
            "Batch size:  torch.Size([128, 1, 28, 28])\n",
            "Batch label:  tensor([9, 2, 3, 5, 3, 0, 3, 3, 0, 2, 4, 6, 3, 1, 4, 8, 7, 3, 0, 0, 4, 9, 5, 9,\n",
            "        8, 3, 6, 8, 4, 7, 9, 0, 2, 7, 4, 2, 3, 9, 0, 5, 1, 0, 0, 6, 6, 8, 3, 8,\n",
            "        6, 0, 9, 2, 8, 7, 1, 2, 6, 0, 6, 1, 8, 9, 6, 3, 0, 1, 2, 1, 2, 0, 4, 2,\n",
            "        3, 3, 8, 8, 3, 7, 6, 3, 4, 5, 9, 6, 6, 8, 4, 6, 2, 9, 3, 9, 9, 4, 1, 2,\n",
            "        0, 3, 7, 5, 7, 2, 5, 4, 3, 3, 7, 5, 8, 9, 7, 6, 0, 3, 9, 5, 7, 7, 9, 2,\n",
            "        9, 8, 5, 0, 2, 2, 2, 9])\n",
            "Batch index:  1\n",
            "Batch size:  torch.Size([128, 1, 28, 28])\n",
            "Batch label:  tensor([3, 6, 8, 8, 9, 9, 4, 4, 5, 6, 0, 5, 0, 2, 4, 6, 5, 1, 2, 0, 4, 0, 6, 2,\n",
            "        4, 4, 4, 2, 9, 4, 2, 6, 5, 3, 8, 9, 7, 4, 6, 6, 4, 9, 4, 9, 6, 3, 2, 0,\n",
            "        7, 4, 8, 3, 8, 6, 2, 3, 9, 9, 7, 2, 2, 3, 0, 2, 1, 4, 3, 5, 2, 2, 3, 3,\n",
            "        1, 2, 2, 1, 4, 2, 8, 5, 9, 8, 8, 4, 0, 1, 4, 5, 6, 0, 1, 7, 4, 2, 6, 4,\n",
            "        3, 9, 7, 4, 7, 0, 4, 9, 5, 5, 4, 1, 5, 4, 8, 9, 3, 1, 1, 9, 4, 1, 9, 2,\n",
            "        9, 1, 4, 1, 2, 5, 9, 8])\n",
            "Batch index:  2\n",
            "Batch size:  torch.Size([128, 1, 28, 28])\n",
            "Batch label:  tensor([8, 8, 5, 8, 1, 1, 3, 4, 6, 6, 0, 9, 8, 6, 3, 6, 6, 1, 7, 9, 9, 7, 6, 8,\n",
            "        9, 1, 7, 5, 2, 6, 3, 2, 5, 8, 6, 8, 3, 6, 7, 0, 4, 4, 7, 2, 9, 8, 1, 1,\n",
            "        6, 4, 0, 8, 0, 1, 7, 8, 7, 0, 5, 1, 1, 6, 2, 2, 9, 6, 8, 8, 6, 7, 6, 4,\n",
            "        3, 9, 4, 2, 1, 5, 1, 2, 5, 7, 8, 6, 0, 6, 4, 9, 0, 1, 8, 8, 0, 5, 7, 0,\n",
            "        3, 1, 0, 8, 3, 8, 6, 2, 4, 6, 7, 3, 5, 0, 0, 6, 0, 1, 5, 2, 4, 9, 6, 1,\n",
            "        9, 8, 9, 7, 4, 8, 3, 4])\n",
            "Batch index:  3\n",
            "Batch size:  torch.Size([128, 1, 28, 28])\n",
            "Batch label:  tensor([3, 7, 6, 0, 4, 0, 9, 1, 1, 3, 7, 4, 3, 0, 1, 4, 7, 9, 6, 1, 2, 6, 0, 0,\n",
            "        6, 6, 4, 5, 8, 5, 0, 4, 1, 2, 6, 5, 6, 4, 9, 8, 7, 5, 5, 3, 5, 8, 1, 5,\n",
            "        9, 4, 8, 7, 7, 7, 6, 7, 3, 4, 2, 5, 4, 9, 9, 9, 3, 9, 5, 6, 4, 3, 7, 7,\n",
            "        4, 3, 9, 6, 7, 1, 5, 1, 8, 0, 1, 4, 6, 7, 4, 2, 8, 8, 2, 5, 7, 2, 3, 2,\n",
            "        6, 9, 4, 9, 2, 3, 5, 8, 9, 3, 6, 0, 5, 0, 9, 4, 3, 9, 5, 4, 5, 0, 5, 5,\n",
            "        4, 5, 2, 1, 0, 5, 5, 0])\n",
            "Batch index:  4\n",
            "Batch size:  torch.Size([128, 1, 28, 28])\n",
            "Batch label:  tensor([3, 3, 3, 9, 2, 9, 1, 7, 8, 0, 3, 9, 1, 5, 4, 8, 4, 8, 3, 2, 2, 2, 0, 8,\n",
            "        5, 4, 5, 5, 2, 7, 5, 8, 0, 1, 0, 4, 9, 4, 7, 1, 8, 5, 9, 9, 4, 2, 8, 7,\n",
            "        0, 6, 6, 3, 0, 3, 5, 1, 2, 0, 2, 5, 8, 2, 1, 5, 3, 5, 3, 2, 3, 5, 1, 2,\n",
            "        4, 3, 0, 1, 8, 8, 3, 8, 7, 9, 8, 9, 8, 2, 4, 5, 4, 1, 1, 2, 1, 8, 8, 9,\n",
            "        8, 6, 7, 9, 8, 6, 1, 2, 5, 2, 2, 2, 8, 8, 1, 2, 1, 4, 7, 9, 4, 4, 4, 4,\n",
            "        5, 5, 3, 3, 3, 8, 7, 1])\n",
            "Batch index:  5\n",
            "Batch size:  torch.Size([128, 1, 28, 28])\n",
            "Batch label:  tensor([5, 5, 8, 5, 9, 8, 2, 8, 3, 4, 2, 2, 3, 8, 0, 5, 4, 4, 8, 6, 3, 5, 8, 5,\n",
            "        7, 3, 6, 0, 9, 3, 5, 9, 3, 3, 0, 3, 9, 8, 5, 9, 8, 2, 8, 0, 7, 8, 2, 5,\n",
            "        1, 8, 3, 0, 0, 9, 5, 2, 3, 2, 9, 5, 2, 4, 4, 0, 8, 5, 8, 7, 8, 9, 9, 2,\n",
            "        3, 0, 3, 3, 9, 9, 5, 1, 0, 7, 7, 2, 5, 1, 9, 5, 6, 8, 6, 0, 0, 0, 0, 0,\n",
            "        9, 7, 9, 3, 2, 9, 4, 1, 1, 8, 2, 3, 1, 1, 3, 0, 5, 8, 3, 2, 2, 2, 2, 7,\n",
            "        1, 1, 8, 3, 8, 8, 6, 0])\n"
          ]
        }
      ],
      "source": [
        "batch_size = 128 \n",
        "\n",
        "# converting training images into torch format\n",
        "train_tensor_x = torch.Tensor(train_x)\n",
        "val_tensor_x = torch.Tensor(val_x)\n",
        "test_tensor_x = torch.Tensor(test_x)\n",
        "final_tensor_x = torch.Tensor(final_x)\n",
        "\n",
        "# converting the target into torch format (adding indices)\n",
        "train_tensor_y = torch.Tensor(train_y)\n",
        "val_tensor_y = torch.Tensor(val_y)\n",
        "test_tensor_y = torch.Tensor(test_y)\n",
        "final_tensor_y = torch.Tensor(final_y)\n",
        "\n",
        "train_dataset = TensorDataset(train_tensor_x, train_tensor_y) # create your datset\n",
        "val_dataset = TensorDataset(val_tensor_x,val_tensor_y) # create your datset\n",
        "test_dataset = TensorDataset(test_tensor_x,test_tensor_y) # create your datset\n",
        "final_dataset = TensorDataset(final_tensor_x,final_tensor_y) # create your datset\n",
        "\n",
        "# Final datasets\n",
        "train_dl = DataLoader(train_dataset, batch_size=batch_size)\n",
        "val_dl = DataLoader(val_dataset, batch_size=batch_size)\n",
        "test_dl = DataLoader(test_dataset, batch_size=batch_size)\n",
        "final_dl = DataLoader(final_dataset, batch_size=batch_size)\n",
        "\n",
        "# Display the first N batches of data\n",
        "N = 4\n",
        "for i, (images, labels) in enumerate(train_dl):\n",
        "    print('Batch index: ', i)\n",
        "    print('Batch size: ', images.size())\n",
        "    print('Batch label: ', labels)\n",
        "    if(i > N):\n",
        "      break"
      ]
    },
    {
      "cell_type": "markdown",
      "source": [
        "## Define The Model"
      ],
      "metadata": {
        "id": "8UtBWxU-MMD_"
      }
    },
    {
      "cell_type": "code",
      "execution_count": 14,
      "metadata": {
        "id": "Ps79IuuiJsDi"
      },
      "outputs": [],
      "source": [
        "class ResBlock(nn.Module):\n",
        "    def __init__(self, in_channels, out_channels, downsample):\n",
        "        super().__init__()\n",
        "        if downsample:\n",
        "            self.conv1 = nn.Conv2d(in_channels, out_channels, kernel_size=3, stride=2, padding=1)\n",
        "            self.shortcut = nn.Sequential(\n",
        "                nn.Conv2d(in_channels, out_channels, kernel_size=1, stride=2),\n",
        "                nn.BatchNorm2d(out_channels)\n",
        "            )\n",
        "        else:\n",
        "            self.conv1 = nn.Conv2d(in_channels, out_channels, kernel_size=3, stride=1, padding=1)\n",
        "            self.shortcut = nn.Sequential()\n",
        "\n",
        "        self.conv2 = nn.Conv2d(out_channels, out_channels, kernel_size=3, stride=1, padding=1)\n",
        "        self.bn1 = nn.BatchNorm2d(out_channels)\n",
        "        self.bn2 = nn.BatchNorm2d(out_channels)\n",
        "\n",
        "    def forward(self, input):\n",
        "        shortcut = self.shortcut(input)\n",
        "        input = nn.ReLU()(self.bn1(self.conv1(input)))\n",
        "        input = nn.ReLU()(self.bn2(self.conv2(input)))\n",
        "        input = input + shortcut\n",
        "        return nn.ReLU()(input)"
      ]
    },
    {
      "cell_type": "code",
      "source": [
        "# Squeeze and Excite Layer\n",
        "# Code citation: https://towardsdatascience.com/introduction-to-squeeze-excitation-networks-f22ce3a43348\n",
        "class SELayer(nn.Module):\n",
        "    def __init__(self, channel, reduction=16):\n",
        "        super(SELayer, self).__init__()\n",
        "        self.avg_pool = nn.AdaptiveAvgPool2d(1)\n",
        "        self.fc = nn.Sequential(\n",
        "            nn.Linear(channel, channel // reduction, bias=False),\n",
        "            nn.ReLU(inplace=True),\n",
        "            nn.Linear(channel // reduction, channel, bias=False),\n",
        "            nn.Sigmoid()\n",
        "        )\n",
        "    def forward(self, x):\n",
        "            b, c, _, _ = x.size()\n",
        "            y = self.avg_pool(x).view(b, c)\n",
        "            y = self.fc(y).view(b, c, 1, 1)\n",
        "            return x * y.expand_as(x)\n",
        " "
      ],
      "metadata": {
        "id": "RsMNHOQh5qMt"
      },
      "execution_count": 15,
      "outputs": []
    },
    {
      "cell_type": "code",
      "execution_count": 25,
      "metadata": {
        "id": "sU91wqaOw9UZ"
      },
      "outputs": [],
      "source": [
        "\"\"\"\n",
        "CURRENT BEST MODEL\n",
        "\"\"\"\n",
        "class Net(nn.Module):\n",
        "    def __init__(self, resblock, outputs=10):\n",
        "        super().__init__()\n",
        "        self.network = nn.Sequential(\n",
        "        nn.Conv2d(1, 32, kernel_size=3, stride=1, padding=2),\n",
        "        resblock(32, 32, downsample=False),\n",
        "        SELayer(32, 2),\n",
        "        nn.ReLU(),\n",
        "        nn.AvgPool2d(1, stride=1),\n",
        "        \n",
        "        nn.Conv2d(32, 64, kernel_size=3, stride=1, padding=2),\n",
        "        resblock(64, 64, downsample=False),\n",
        "        SELayer(64, 16),\n",
        "        nn.ReLU(),\n",
        "        nn.AvgPool2d(1, stride=1),\n",
        "\n",
        "        nn.Conv2d(64, 128, kernel_size=3, stride=1, padding=0),\n",
        "        resblock(128, 128, downsample=False),\n",
        "        SELayer(128, 64),\n",
        "        nn.ReLU(),\n",
        "        nn.AvgPool2d(2, stride=2),\n",
        "\n",
        "        nn.Conv2d(128, 256, kernel_size=3, stride=1, padding=0),\n",
        "        resblock(256, 256, downsample=False),\n",
        "        resblock(256, 512, downsample=True),\n",
        "        SELayer(512, 2),\n",
        "        nn.ReLU(),\n",
        "        nn.AvgPool2d(2, stride=2),\n",
        "\n",
        "        resblock(512, 512, downsample=False),\n",
        "        resblock(512, 1024, downsample=True),\n",
        "        nn.AdaptiveAvgPool2d(1),\n",
        "        nn.Flatten(),\n",
        "        nn.Linear(1024, outputs)\n",
        "      )\n",
        "\n",
        "    def forward(self, input):\n",
        "        y = self.network(input)\n",
        "        return y \n",
        " "
      ]
    },
    {
      "cell_type": "markdown",
      "source": [
        "# Define Training Functions"
      ],
      "metadata": {
        "id": "FAl8qkgMOI3E"
      }
    },
    {
      "cell_type": "code",
      "execution_count": 17,
      "metadata": {
        "id": "aQ9dUIrSw0Ku"
      },
      "outputs": [],
      "source": [
        "# Validation Function\n",
        "# Code Citation: https://medium.com/@krishna.ramesh.tx/training-a-cnn-to-distinguish-between-mnist-digits-using-pytorch-620f06aa9ffa\n",
        "def validate(model, data):\n",
        "    total = 0\n",
        "    correct = 0\n",
        "    for i, (images, labels) in enumerate(data):\n",
        "        images = images.cuda()\n",
        "        x = model(images)\n",
        "        value, pred = torch.max(x,1)\n",
        "        pred = pred.data.cpu()\n",
        "        total += x.size(0)\n",
        "        correct += torch.sum(pred == labels)\n",
        "    return correct*100./total"
      ]
    },
    {
      "cell_type": "code",
      "execution_count": 18,
      "metadata": {
        "id": "YZ10xa3rxpJr"
      },
      "outputs": [],
      "source": [
        "# Training Function\n",
        "# Code Citation: https://medium.com/@krishna.ramesh.tx/training-a-cnn-to-distinguish-between-mnist-digits-using-pytorch-620f06aa9ffa\n",
        "import copy \n",
        "from torchsummary import summary\n",
        "\n",
        "def train(numb_epoch=3, dataset=train_dl, lr=1e-3, device=\"cpu\"):\n",
        "    resnet18 = Net(ResBlock, outputs=10)\n",
        "    cnn = resnet18.to(torch.device(\"cuda:0\" if torch.cuda.is_available() else \"cpu\"))\n",
        "    accuracies = []\n",
        "    # cnn = create_model().to(device)\n",
        "    cec = nn.CrossEntropyLoss()\n",
        "    optimizer = optim.Adam(cnn.parameters(), lr=lr)\n",
        "    max_accuracy = 0\n",
        "    for epoch in range(numb_epoch):\n",
        "        for i, (images, labels) in enumerate(dataset):\n",
        "            images = images.to(device)\n",
        "            # labels = labels.to(device)\n",
        "            labels = labels.type(torch.cuda.LongTensor)\n",
        "            optimizer.zero_grad()\n",
        "            pred = cnn(images)\n",
        "            loss = cec(pred, labels)\n",
        "            loss.backward()\n",
        "            optimizer.step()\n",
        "        accuracy = float(validate(cnn, val_dl))\n",
        "        accuracies.append(accuracy)\n",
        "        if accuracy > max_accuracy:\n",
        "            best_model = copy.deepcopy(cnn)\n",
        "            max_accuracy = accuracy\n",
        "            print(\"Saving Best Model with Accuracy: \", accuracy)\n",
        "        print('Epoch:', epoch+1, \"Accuracy :\", accuracy, '%')\n",
        "    plt.plot(accuracies)\n",
        "    return best_model"
      ]
    },
    {
      "cell_type": "markdown",
      "source": [
        "## Train on Training Data"
      ],
      "metadata": {
        "id": "nvHvZ6e3OLMO"
      }
    },
    {
      "cell_type": "code",
      "execution_count": 19,
      "metadata": {
        "colab": {
          "base_uri": "https://localhost:8080/"
        },
        "id": "TatUAej9z1uz",
        "outputId": "b6651485-fb42-44ce-82a6-a49abded7247"
      },
      "outputs": [
        {
          "output_type": "execute_result",
          "data": {
            "text/plain": [
              "device(type='cuda', index=0)"
            ]
          },
          "metadata": {},
          "execution_count": 19
        }
      ],
      "source": [
        "if torch.cuda.is_available():\n",
        "    device = torch.device(\"cuda:0\")\n",
        "else:\n",
        "    device = torch.device(\"cpu\")\n",
        "    print(\"No Cuda Available\")\n",
        "    \n",
        "device"
      ]
    },
    {
      "cell_type": "code",
      "execution_count": 26,
      "metadata": {
        "colab": {
          "base_uri": "https://localhost:8080/",
          "height": 433
        },
        "id": "sxgvzhP-z52L",
        "outputId": "dd2ef2f2-13b6-4fef-b1fb-49f169f891db"
      },
      "outputs": [
        {
          "output_type": "stream",
          "name": "stdout",
          "text": [
            "Saving Best Model with Accuracy:  91.41666412353516\n",
            "Epoch: 1 Accuracy : 91.41666412353516 %\n",
            "Saving Best Model with Accuracy:  94.19999694824219\n",
            "Epoch: 2 Accuracy : 94.19999694824219 %\n",
            "Saving Best Model with Accuracy:  94.58333587646484\n",
            "Epoch: 3 Accuracy : 94.58333587646484 %\n",
            "Saving Best Model with Accuracy:  94.96666717529297\n",
            "Epoch: 4 Accuracy : 94.96666717529297 %\n",
            "Epoch: 5 Accuracy : 94.8499984741211 %\n"
          ]
        },
        {
          "output_type": "display_data",
          "data": {
            "text/plain": [
              "<Figure size 432x288 with 1 Axes>"
            ],
            "image/png": "[encoded data removed]"
          },
          "metadata": {
            "needs_background": "light"
          }
        }
      ],
      "source": [
        "cnn = train(5, dataset=train_dl, device=device)"
      ]
    },
    {
      "cell_type": "markdown",
      "source": [
        "## Train on Entire Dataset"
      ],
      "metadata": {
        "id": "yiVFG6vSOX9B"
      }
    },
    {
      "cell_type": "code",
      "execution_count": 44,
      "metadata": {
        "colab": {
          "base_uri": "https://localhost:8080/",
          "height": 340
        },
        "id": "cwUG3sE_uObf",
        "outputId": "12025d62-b055-48d5-bab4-aa11243649ce"
      },
      "outputs": [
        {
          "output_type": "stream",
          "name": "stdout",
          "text": [
            "Saving Best Model with Accuracy:  91.41666412353516\n",
            "Epoch: 1 Accuracy : 91.41666412353516 %\n",
            "Saving Best Model with Accuracy:  94.18333435058594\n",
            "Epoch: 2 Accuracy : 94.18333435058594 %\n"
          ]
        },
        {
          "output_type": "display_data",
          "data": {
            "text/plain": [
              "<Figure size 432x288 with 1 Axes>"
            ],
            "image/png": "[encoded data removed]"
          },
          "metadata": {
            "needs_background": "light"
          }
        }
      ],
      "source": [
        "# Train the final model\n",
        "cnn = train(2, dataset=final_dl, device=device)"
      ]
    },
    {
      "cell_type": "markdown",
      "source": [
        "## Predict Testing Set"
      ],
      "metadata": {
        "id": "0yJ2fg2ROaHe"
      }
    },
    {
      "cell_type": "code",
      "execution_count": 45,
      "metadata": {
        "id": "h8O7NpeJWBbU"
      },
      "outputs": [],
      "source": [
        "def predict_final(model, data):\n",
        "    y_pred = []\n",
        "    for i, (images, labels) in enumerate(data):\n",
        "        images = images.cuda()\n",
        "        x = model(images)\n",
        "        value, pred = torch.max(x, 1)\n",
        "        pred = pred.data.cpu()\n",
        "        y_pred.extend(list(pred.numpy()))\n",
        "    return np.array(y_pred) "
      ]
    },
    {
      "cell_type": "code",
      "execution_count": 46,
      "metadata": {
        "id": "ZEAL-TRLWIEw"
      },
      "outputs": [],
      "source": [
        "y_pred = predict_final(cnn, test_dl)"
      ]
    },
    {
      "cell_type": "markdown",
      "source": [
        "## Save Testing Set Predictions (CSV)"
      ],
      "metadata": {
        "id": "TNSggEuZOdcq"
      }
    },
    {
      "cell_type": "code",
      "execution_count": 47,
      "metadata": {
        "id": "qtzyR5Kkv9tB"
      },
      "outputs": [],
      "source": [
        "y_final = np.zeros((len(y_pred), 2))\n",
        "for i in range(len(y_pred)):\n",
        "  y_final[i, :] = np.array([i, int(y_pred[i])])"
      ]
    },
    {
      "cell_type": "code",
      "execution_count": 48,
      "metadata": {
        "id": "UpgeU4jSX-Xl"
      },
      "outputs": [],
      "source": [
        "# save array into csv file\n",
        "np.savetxt(\"final.csv\", \n",
        "           y_final,\n",
        "           '%i,%i',\n",
        "           delimiter = \",\")"
      ]
    }
  ],
  "metadata": {
    "accelerator": "GPU",
    "colab": {
      "provenance": []
    },
    "gpuClass": "premium",
    "kernelspec": {
      "display_name": "Python 3",
      "name": "python3"
    },
    "language_info": {
      "name": "python"
    }
  },
  "nbformat": 4,
  "nbformat_minor": 0
}